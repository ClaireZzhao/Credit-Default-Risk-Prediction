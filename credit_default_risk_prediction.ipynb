{
 "cells": [
  {
   "cell_type": "markdown",
   "id": "f400a784",
   "metadata": {
    "papermill": {
     "duration": 0.012354,
     "end_time": "2022-07-30T08:16:36.996506",
     "exception": false,
     "start_time": "2022-07-30T08:16:36.984152",
     "status": "completed"
    },
    "tags": []
   },
   "source": [
    "프로젝트 개요\n",
    "\n",
    "이 프로젝트에서는 Credit Default Risk로 과거 대출 신청 데이터를 사용하여 신청자가 대출금을 상환할 수 있는지 여부를 예측해 보았습니다.\n",
    "\n",
    "대출금 상환 여부를 예측하기 위해 본 프로젝트에서는 KNN, Logistic Regression, Decision Tree 및 인기가 많은 XGBoost 총 4개의 알고리즘을 활용하여 예측력은 가장 좋은 알고리즘 즉 XGBoost 알고리즘을 확인하였습니다."
   ]
  },
  {
   "cell_type": "code",
   "execution_count": 1,
   "id": "71741549",
   "metadata": {
    "execution": {
     "iopub.execute_input": "2022-07-30T08:16:37.020331Z",
     "iopub.status.busy": "2022-07-30T08:16:37.019208Z",
     "iopub.status.idle": "2022-07-30T08:16:38.726971Z",
     "shell.execute_reply": "2022-07-30T08:16:38.725664Z"
    },
    "papermill": {
     "duration": 1.722754,
     "end_time": "2022-07-30T08:16:38.729798",
     "exception": false,
     "start_time": "2022-07-30T08:16:37.007044",
     "status": "completed"
    },
    "tags": []
   },
   "outputs": [
    {
     "name": "stdout",
     "output_type": "stream",
     "text": [
      "/kaggle/input/credit-risk-dataset/credit_risk_dataset.csv\n"
     ]
    }
   ],
   "source": [
    "import pandas as pd # data processing, CSV file I/O (e.g. pd.read_csv)\n",
    "import matplotlib.pyplot as plt\n",
    "import seaborn as sns\n",
    "from sklearn.model_selection import train_test_split\n",
    "from sklearn.neighbors import KNeighborsClassifier\n",
    "from sklearn.linear_model import LogisticRegression\n",
    "from sklearn.tree import DecisionTreeClassifier\n",
    "from xgboost import XGBClassifier\n",
    "from sklearn.metrics import classification_report, roc_auc_score, roc_curve\n",
    "\n",
    "import os\n",
    "for dirname, _, filenames in os.walk('/kaggle/input'):\n",
    "    for filename in filenames:\n",
    "        print(os.path.join(dirname, filename))      # list all files under the input directory"
   ]
  },
  {
   "cell_type": "markdown",
   "id": "8caac0d7",
   "metadata": {
    "papermill": {
     "duration": 0.01119,
     "end_time": "2022-07-30T08:16:38.752866",
     "exception": false,
     "start_time": "2022-07-30T08:16:38.741676",
     "status": "completed"
    },
    "tags": []
   },
   "source": [
    "# 변수 탐색"
   ]
  },
  {
   "cell_type": "code",
   "execution_count": 2,
   "id": "9c062809",
   "metadata": {
    "execution": {
     "iopub.execute_input": "2022-07-30T08:16:38.777956Z",
     "iopub.status.busy": "2022-07-30T08:16:38.777133Z",
     "iopub.status.idle": "2022-07-30T08:16:38.879066Z",
     "shell.execute_reply": "2022-07-30T08:16:38.877904Z"
    },
    "papermill": {
     "duration": 0.117967,
     "end_time": "2022-07-30T08:16:38.882236",
     "exception": false,
     "start_time": "2022-07-30T08:16:38.764269",
     "status": "completed"
    },
    "tags": []
   },
   "outputs": [],
   "source": [
    "credit_df = pd.read_csv('/kaggle/input/credit-risk-dataset/credit_risk_dataset.csv')"
   ]
  },
  {
   "cell_type": "code",
   "execution_count": 3,
   "id": "257e4e1e",
   "metadata": {
    "execution": {
     "iopub.execute_input": "2022-07-30T08:16:38.920542Z",
     "iopub.status.busy": "2022-07-30T08:16:38.919577Z",
     "iopub.status.idle": "2022-07-30T08:16:38.928979Z",
     "shell.execute_reply": "2022-07-30T08:16:38.927711Z"
    },
    "papermill": {
     "duration": 0.030983,
     "end_time": "2022-07-30T08:16:38.931410",
     "exception": false,
     "start_time": "2022-07-30T08:16:38.900427",
     "status": "completed"
    },
    "tags": []
   },
   "outputs": [
    {
     "data": {
      "text/plain": [
       "(32581, 12)"
      ]
     },
     "execution_count": 3,
     "metadata": {},
     "output_type": "execute_result"
    }
   ],
   "source": [
    "credit_df.shape"
   ]
  },
  {
   "cell_type": "code",
   "execution_count": 4,
   "id": "bd146b3c",
   "metadata": {
    "execution": {
     "iopub.execute_input": "2022-07-30T08:16:38.956171Z",
     "iopub.status.busy": "2022-07-30T08:16:38.955761Z",
     "iopub.status.idle": "2022-07-30T08:16:39.001655Z",
     "shell.execute_reply": "2022-07-30T08:16:39.000422Z"
    },
    "papermill": {
     "duration": 0.061233,
     "end_time": "2022-07-30T08:16:39.004161",
     "exception": false,
     "start_time": "2022-07-30T08:16:38.942928",
     "status": "completed"
    },
    "tags": []
   },
   "outputs": [
    {
     "name": "stdout",
     "output_type": "stream",
     "text": [
      "<class 'pandas.core.frame.DataFrame'>\n",
      "RangeIndex: 32581 entries, 0 to 32580\n",
      "Data columns (total 12 columns):\n",
      " #   Column                      Non-Null Count  Dtype  \n",
      "---  ------                      --------------  -----  \n",
      " 0   person_age                  32581 non-null  int64  \n",
      " 1   person_income               32581 non-null  int64  \n",
      " 2   person_home_ownership       32581 non-null  object \n",
      " 3   person_emp_length           31686 non-null  float64\n",
      " 4   loan_intent                 32581 non-null  object \n",
      " 5   loan_grade                  32581 non-null  object \n",
      " 6   loan_amnt                   32581 non-null  int64  \n",
      " 7   loan_int_rate               29465 non-null  float64\n",
      " 8   loan_status                 32581 non-null  int64  \n",
      " 9   loan_percent_income         32581 non-null  float64\n",
      " 10  cb_person_default_on_file   32581 non-null  object \n",
      " 11  cb_person_cred_hist_length  32581 non-null  int64  \n",
      "dtypes: float64(3), int64(5), object(4)\n",
      "memory usage: 3.0+ MB\n"
     ]
    }
   ],
   "source": [
    "credit_df.info()    "
   ]
  },
  {
   "cell_type": "markdown",
   "id": "1427e149",
   "metadata": {
    "papermill": {
     "duration": 0.011382,
     "end_time": "2022-07-30T08:16:39.029313",
     "exception": false,
     "start_time": "2022-07-30T08:16:39.017931",
     "status": "completed"
    },
    "tags": []
   },
   "source": [
    "**변수 설명**\n",
    "* person_age:                  age\n",
    "* person_income:               annual income\n",
    "* person_home_ownership:       home ownership \n",
    "* person_emp_length:          employment length(in years)\n",
    "* loan_intent:                 loan intent \n",
    "* loan_grade:                  loan grade \n",
    "* loan_amnt:                   loan amount \n",
    "* loan_int_rate:               interest rate\n",
    "* loan_status:                 loan status(0: non default, 1: default) \n",
    "* loan_percent_income:         percent income\n",
    "* cb_person_default_on_file:   historical default\n",
    "* cb_person_cred_hist_length:  credit history length\n"
   ]
  },
  {
   "cell_type": "code",
   "execution_count": 5,
   "id": "d2ae0aaf",
   "metadata": {
    "execution": {
     "iopub.execute_input": "2022-07-30T08:16:39.053350Z",
     "iopub.status.busy": "2022-07-30T08:16:39.052900Z",
     "iopub.status.idle": "2022-07-30T08:16:39.065842Z",
     "shell.execute_reply": "2022-07-30T08:16:39.064928Z"
    },
    "papermill": {
     "duration": 0.027688,
     "end_time": "2022-07-30T08:16:39.068093",
     "exception": false,
     "start_time": "2022-07-30T08:16:39.040405",
     "status": "completed"
    },
    "tags": []
   },
   "outputs": [
    {
     "data": {
      "text/plain": [
       "RENT        16446\n",
       "MORTGAGE    13444\n",
       "OWN          2584\n",
       "OTHER         107\n",
       "Name: person_home_ownership, dtype: int64"
      ]
     },
     "execution_count": 5,
     "metadata": {},
     "output_type": "execute_result"
    }
   ],
   "source": [
    "credit_df['person_home_ownership'].value_counts()"
   ]
  },
  {
   "cell_type": "code",
   "execution_count": 6,
   "id": "3760ff2f",
   "metadata": {
    "execution": {
     "iopub.execute_input": "2022-07-30T08:16:39.099073Z",
     "iopub.status.busy": "2022-07-30T08:16:39.098709Z",
     "iopub.status.idle": "2022-07-30T08:16:39.111309Z",
     "shell.execute_reply": "2022-07-30T08:16:39.110475Z"
    },
    "papermill": {
     "duration": 0.031997,
     "end_time": "2022-07-30T08:16:39.113958",
     "exception": false,
     "start_time": "2022-07-30T08:16:39.081961",
     "status": "completed"
    },
    "tags": []
   },
   "outputs": [
    {
     "data": {
      "text/plain": [
       "EDUCATION            6453\n",
       "MEDICAL              6071\n",
       "VENTURE              5719\n",
       "PERSONAL             5521\n",
       "DEBTCONSOLIDATION    5212\n",
       "HOMEIMPROVEMENT      3605\n",
       "Name: loan_intent, dtype: int64"
      ]
     },
     "execution_count": 6,
     "metadata": {},
     "output_type": "execute_result"
    }
   ],
   "source": [
    "credit_df['loan_intent'].value_counts()"
   ]
  },
  {
   "cell_type": "code",
   "execution_count": 7,
   "id": "c0a9fe1b",
   "metadata": {
    "execution": {
     "iopub.execute_input": "2022-07-30T08:16:39.143532Z",
     "iopub.status.busy": "2022-07-30T08:16:39.142611Z",
     "iopub.status.idle": "2022-07-30T08:16:39.157365Z",
     "shell.execute_reply": "2022-07-30T08:16:39.156247Z"
    },
    "papermill": {
     "duration": 0.030472,
     "end_time": "2022-07-30T08:16:39.159645",
     "exception": false,
     "start_time": "2022-07-30T08:16:39.129173",
     "status": "completed"
    },
    "tags": []
   },
   "outputs": [
    {
     "data": {
      "text/plain": [
       "A    10777\n",
       "B    10451\n",
       "C     6458\n",
       "D     3626\n",
       "E      964\n",
       "F      241\n",
       "G       64\n",
       "Name: loan_grade, dtype: int64"
      ]
     },
     "execution_count": 7,
     "metadata": {},
     "output_type": "execute_result"
    }
   ],
   "source": [
    "credit_df['loan_grade'].value_counts()   # A ~ G"
   ]
  },
  {
   "cell_type": "code",
   "execution_count": 8,
   "id": "a937b4da",
   "metadata": {
    "execution": {
     "iopub.execute_input": "2022-07-30T08:16:39.184360Z",
     "iopub.status.busy": "2022-07-30T08:16:39.183589Z",
     "iopub.status.idle": "2022-07-30T08:16:39.199384Z",
     "shell.execute_reply": "2022-07-30T08:16:39.198545Z"
    },
    "papermill": {
     "duration": 0.031223,
     "end_time": "2022-07-30T08:16:39.202174",
     "exception": false,
     "start_time": "2022-07-30T08:16:39.170951",
     "status": "completed"
    },
    "tags": []
   },
   "outputs": [
    {
     "data": {
      "text/plain": [
       "N    26836\n",
       "Y     5745\n",
       "Name: cb_person_default_on_file, dtype: int64"
      ]
     },
     "execution_count": 8,
     "metadata": {},
     "output_type": "execute_result"
    }
   ],
   "source": [
    "credit_df['cb_person_default_on_file'].value_counts()  # no/yes"
   ]
  },
  {
   "cell_type": "code",
   "execution_count": 9,
   "id": "51809184",
   "metadata": {
    "execution": {
     "iopub.execute_input": "2022-07-30T08:16:39.232896Z",
     "iopub.status.busy": "2022-07-30T08:16:39.231701Z",
     "iopub.status.idle": "2022-07-30T08:16:39.241956Z",
     "shell.execute_reply": "2022-07-30T08:16:39.240948Z"
    },
    "papermill": {
     "duration": 0.027331,
     "end_time": "2022-07-30T08:16:39.244174",
     "exception": false,
     "start_time": "2022-07-30T08:16:39.216843",
     "status": "completed"
    },
    "tags": []
   },
   "outputs": [
    {
     "data": {
      "text/plain": [
       "0    25473\n",
       "1     7108\n",
       "Name: loan_status, dtype: int64"
      ]
     },
     "execution_count": 9,
     "metadata": {},
     "output_type": "execute_result"
    }
   ],
   "source": [
    "credit_df['loan_status'].value_counts()  # 0 (non default)or 1 (default)"
   ]
  },
  {
   "cell_type": "code",
   "execution_count": 10,
   "id": "bdad52d8",
   "metadata": {
    "execution": {
     "iopub.execute_input": "2022-07-30T08:16:39.269290Z",
     "iopub.status.busy": "2022-07-30T08:16:39.268675Z",
     "iopub.status.idle": "2022-07-30T08:16:39.318401Z",
     "shell.execute_reply": "2022-07-30T08:16:39.317265Z"
    },
    "papermill": {
     "duration": 0.065069,
     "end_time": "2022-07-30T08:16:39.320838",
     "exception": false,
     "start_time": "2022-07-30T08:16:39.255769",
     "status": "completed"
    },
    "tags": []
   },
   "outputs": [
    {
     "data": {
      "text/html": [
       "<div>\n",
       "<style scoped>\n",
       "    .dataframe tbody tr th:only-of-type {\n",
       "        vertical-align: middle;\n",
       "    }\n",
       "\n",
       "    .dataframe tbody tr th {\n",
       "        vertical-align: top;\n",
       "    }\n",
       "\n",
       "    .dataframe thead th {\n",
       "        text-align: right;\n",
       "    }\n",
       "</style>\n",
       "<table border=\"1\" class=\"dataframe\">\n",
       "  <thead>\n",
       "    <tr style=\"text-align: right;\">\n",
       "      <th></th>\n",
       "      <th>person_age</th>\n",
       "      <th>person_income</th>\n",
       "      <th>person_emp_length</th>\n",
       "      <th>loan_amnt</th>\n",
       "      <th>loan_int_rate</th>\n",
       "      <th>loan_status</th>\n",
       "      <th>loan_percent_income</th>\n",
       "      <th>cb_person_cred_hist_length</th>\n",
       "    </tr>\n",
       "  </thead>\n",
       "  <tbody>\n",
       "    <tr>\n",
       "      <th>count</th>\n",
       "      <td>32581.000000</td>\n",
       "      <td>3.258100e+04</td>\n",
       "      <td>31686.000000</td>\n",
       "      <td>32581.000000</td>\n",
       "      <td>29465.000000</td>\n",
       "      <td>32581.000000</td>\n",
       "      <td>32581.000000</td>\n",
       "      <td>32581.000000</td>\n",
       "    </tr>\n",
       "    <tr>\n",
       "      <th>mean</th>\n",
       "      <td>27.734600</td>\n",
       "      <td>6.607485e+04</td>\n",
       "      <td>4.789686</td>\n",
       "      <td>9589.371106</td>\n",
       "      <td>11.011695</td>\n",
       "      <td>0.218164</td>\n",
       "      <td>0.170203</td>\n",
       "      <td>5.804211</td>\n",
       "    </tr>\n",
       "    <tr>\n",
       "      <th>std</th>\n",
       "      <td>6.348078</td>\n",
       "      <td>6.198312e+04</td>\n",
       "      <td>4.142630</td>\n",
       "      <td>6322.086646</td>\n",
       "      <td>3.240459</td>\n",
       "      <td>0.413006</td>\n",
       "      <td>0.106782</td>\n",
       "      <td>4.055001</td>\n",
       "    </tr>\n",
       "    <tr>\n",
       "      <th>min</th>\n",
       "      <td>20.000000</td>\n",
       "      <td>4.000000e+03</td>\n",
       "      <td>0.000000</td>\n",
       "      <td>500.000000</td>\n",
       "      <td>5.420000</td>\n",
       "      <td>0.000000</td>\n",
       "      <td>0.000000</td>\n",
       "      <td>2.000000</td>\n",
       "    </tr>\n",
       "    <tr>\n",
       "      <th>25%</th>\n",
       "      <td>23.000000</td>\n",
       "      <td>3.850000e+04</td>\n",
       "      <td>2.000000</td>\n",
       "      <td>5000.000000</td>\n",
       "      <td>7.900000</td>\n",
       "      <td>0.000000</td>\n",
       "      <td>0.090000</td>\n",
       "      <td>3.000000</td>\n",
       "    </tr>\n",
       "    <tr>\n",
       "      <th>50%</th>\n",
       "      <td>26.000000</td>\n",
       "      <td>5.500000e+04</td>\n",
       "      <td>4.000000</td>\n",
       "      <td>8000.000000</td>\n",
       "      <td>10.990000</td>\n",
       "      <td>0.000000</td>\n",
       "      <td>0.150000</td>\n",
       "      <td>4.000000</td>\n",
       "    </tr>\n",
       "    <tr>\n",
       "      <th>75%</th>\n",
       "      <td>30.000000</td>\n",
       "      <td>7.920000e+04</td>\n",
       "      <td>7.000000</td>\n",
       "      <td>12200.000000</td>\n",
       "      <td>13.470000</td>\n",
       "      <td>0.000000</td>\n",
       "      <td>0.230000</td>\n",
       "      <td>8.000000</td>\n",
       "    </tr>\n",
       "    <tr>\n",
       "      <th>max</th>\n",
       "      <td>144.000000</td>\n",
       "      <td>6.000000e+06</td>\n",
       "      <td>123.000000</td>\n",
       "      <td>35000.000000</td>\n",
       "      <td>23.220000</td>\n",
       "      <td>1.000000</td>\n",
       "      <td>0.830000</td>\n",
       "      <td>30.000000</td>\n",
       "    </tr>\n",
       "  </tbody>\n",
       "</table>\n",
       "</div>"
      ],
      "text/plain": [
       "         person_age  person_income  person_emp_length     loan_amnt  \\\n",
       "count  32581.000000   3.258100e+04       31686.000000  32581.000000   \n",
       "mean      27.734600   6.607485e+04           4.789686   9589.371106   \n",
       "std        6.348078   6.198312e+04           4.142630   6322.086646   \n",
       "min       20.000000   4.000000e+03           0.000000    500.000000   \n",
       "25%       23.000000   3.850000e+04           2.000000   5000.000000   \n",
       "50%       26.000000   5.500000e+04           4.000000   8000.000000   \n",
       "75%       30.000000   7.920000e+04           7.000000  12200.000000   \n",
       "max      144.000000   6.000000e+06         123.000000  35000.000000   \n",
       "\n",
       "       loan_int_rate   loan_status  loan_percent_income  \\\n",
       "count   29465.000000  32581.000000         32581.000000   \n",
       "mean       11.011695      0.218164             0.170203   \n",
       "std         3.240459      0.413006             0.106782   \n",
       "min         5.420000      0.000000             0.000000   \n",
       "25%         7.900000      0.000000             0.090000   \n",
       "50%        10.990000      0.000000             0.150000   \n",
       "75%        13.470000      0.000000             0.230000   \n",
       "max        23.220000      1.000000             0.830000   \n",
       "\n",
       "       cb_person_cred_hist_length  \n",
       "count                32581.000000  \n",
       "mean                     5.804211  \n",
       "std                      4.055001  \n",
       "min                      2.000000  \n",
       "25%                      3.000000  \n",
       "50%                      4.000000  \n",
       "75%                      8.000000  \n",
       "max                     30.000000  "
      ]
     },
     "execution_count": 10,
     "metadata": {},
     "output_type": "execute_result"
    }
   ],
   "source": [
    "credit_df.describe()  # 이상치 확인"
   ]
  },
  {
   "cell_type": "markdown",
   "id": "df3e296d",
   "metadata": {
    "papermill": {
     "duration": 0.011587,
     "end_time": "2022-07-30T08:16:39.344311",
     "exception": false,
     "start_time": "2022-07-30T08:16:39.332724",
     "status": "completed"
    },
    "tags": []
   },
   "source": [
    "1. person_age 칼럼 최대값 이상치로 보임\n",
    "2. person_emp_length 칼럼 최대값 이상치로 보임 \n",
    "3. person_income 칼럼 최대값 이상치인지 추가 확인 필요\n"
   ]
  },
  {
   "cell_type": "code",
   "execution_count": 11,
   "id": "baaff177",
   "metadata": {
    "execution": {
     "iopub.execute_input": "2022-07-30T08:16:39.369669Z",
     "iopub.status.busy": "2022-07-30T08:16:39.369144Z",
     "iopub.status.idle": "2022-07-30T08:16:39.378177Z",
     "shell.execute_reply": "2022-07-30T08:16:39.377136Z"
    },
    "papermill": {
     "duration": 0.024119,
     "end_time": "2022-07-30T08:16:39.380396",
     "exception": false,
     "start_time": "2022-07-30T08:16:39.356277",
     "status": "completed"
    },
    "tags": []
   },
   "outputs": [],
   "source": [
    "df_num = credit_df.select_dtypes(['float', 'int'])\n",
    "df_hist = df_num.drop(['loan_status'], axis=1)"
   ]
  },
  {
   "cell_type": "code",
   "execution_count": 12,
   "id": "2546d8ef",
   "metadata": {
    "execution": {
     "iopub.execute_input": "2022-07-30T08:16:39.406422Z",
     "iopub.status.busy": "2022-07-30T08:16:39.405542Z",
     "iopub.status.idle": "2022-07-30T08:16:48.239482Z",
     "shell.execute_reply": "2022-07-30T08:16:48.238232Z"
    },
    "papermill": {
     "duration": 8.850331,
     "end_time": "2022-07-30T08:16:48.242489",
     "exception": false,
     "start_time": "2022-07-30T08:16:39.392158",
     "status": "completed"
    },
    "tags": []
   },
   "outputs": [
    {
     "data": {
      "image/png": "[encoded data removed]",
      "text/plain": [
       "<Figure size 864x1152 with 7 Axes>"
      ]
     },
     "metadata": {
      "needs_background": "light"
     },
     "output_type": "display_data"
    }
   ],
   "source": [
    "#y변수(loan_status) 제외한 x변수를 대상으로 시각화\n",
    "\n",
    "plt.figure(figsize=(12,16))\n",
    "for i, column in enumerate(df_hist.columns):\n",
    "    plt.subplot(int('42'+str(i+1)))\n",
    "    sns.histplot(df_hist[column], color='forestgreen', stat='density')\n",
    "    sns.kdeplot(df_hist[column], color='indianred')\n",
    "    plt.title(column +' distribution',fontsize=14)\n",
    "    plt.ylabel('Probability', fontsize=12)\n",
    "    plt.xlabel(column, fontsize=12)\n",
    "    plt.xticks(fontsize=12)\n",
    "    plt.yticks(fontsize=12)\n",
    "\n",
    "plt.subplots_adjust(top=0.92, bottom=0.08, left=0.10, right=0.95, hspace=0.35, wspace=0.35)\n",
    "plt.show()"
   ]
  },
  {
   "cell_type": "code",
   "execution_count": 13,
   "id": "343edd79",
   "metadata": {
    "execution": {
     "iopub.execute_input": "2022-07-30T08:16:48.273423Z",
     "iopub.status.busy": "2022-07-30T08:16:48.271289Z",
     "iopub.status.idle": "2022-07-30T08:16:48.284321Z",
     "shell.execute_reply": "2022-07-30T08:16:48.283041Z"
    },
    "papermill": {
     "duration": 0.030536,
     "end_time": "2022-07-30T08:16:48.286839",
     "exception": false,
     "start_time": "2022-07-30T08:16:48.256303",
     "status": "completed"
    },
    "tags": []
   },
   "outputs": [
    {
     "data": {
      "text/plain": [
       "32297    6000000\n",
       "30049    2039784\n",
       "32546    1900000\n",
       "32497    1782000\n",
       "31924    1440000\n",
       "          ...   \n",
       "15961       4800\n",
       "15963       4200\n",
       "27896       4200\n",
       "15964       4080\n",
       "31930       4000\n",
       "Name: person_income, Length: 32581, dtype: int64"
      ]
     },
     "execution_count": 13,
     "metadata": {},
     "output_type": "execute_result"
    }
   ],
   "source": [
    "credit_df['person_income'].sort_values(ascending=False)  "
   ]
  },
  {
   "cell_type": "code",
   "execution_count": 14,
   "id": "47f5c0ff",
   "metadata": {
    "execution": {
     "iopub.execute_input": "2022-07-30T08:16:48.317106Z",
     "iopub.status.busy": "2022-07-30T08:16:48.316380Z",
     "iopub.status.idle": "2022-07-30T08:16:48.328517Z",
     "shell.execute_reply": "2022-07-30T08:16:48.327470Z"
    },
    "papermill": {
     "duration": 0.029868,
     "end_time": "2022-07-30T08:16:48.330756",
     "exception": false,
     "start_time": "2022-07-30T08:16:48.300888",
     "status": "completed"
    },
    "tags": []
   },
   "outputs": [
    {
     "data": {
      "text/plain": [
       "0        123.0\n",
       "210      123.0\n",
       "32355     41.0\n",
       "32515     38.0\n",
       "32428     34.0\n",
       "         ...  \n",
       "32285      NaN\n",
       "32328      NaN\n",
       "32360      NaN\n",
       "32453      NaN\n",
       "32471      NaN\n",
       "Name: person_emp_length, Length: 32581, dtype: float64"
      ]
     },
     "execution_count": 14,
     "metadata": {},
     "output_type": "execute_result"
    }
   ],
   "source": [
    "credit_df['person_emp_length'].sort_values(ascending=False) "
   ]
  },
  {
   "cell_type": "markdown",
   "id": "8c75b9d8",
   "metadata": {
    "papermill": {
     "duration": 0.013996,
     "end_time": "2022-07-30T08:16:48.358772",
     "exception": false,
     "start_time": "2022-07-30T08:16:48.344776",
     "status": "completed"
    },
    "tags": []
   },
   "source": [
    "1. 이상치(person_age > 100) 삭제할 예정\n",
    "2. 이상치(person_emp_length 최대값) 삭제할 예정\n",
    "3. 이상치(person_income 최대값) 삭제할 예정"
   ]
  },
  {
   "cell_type": "code",
   "execution_count": 15,
   "id": "4a1eb860",
   "metadata": {
    "execution": {
     "iopub.execute_input": "2022-07-30T08:16:48.389094Z",
     "iopub.status.busy": "2022-07-30T08:16:48.388121Z",
     "iopub.status.idle": "2022-07-30T08:16:48.412970Z",
     "shell.execute_reply": "2022-07-30T08:16:48.412206Z"
    },
    "papermill": {
     "duration": 0.042144,
     "end_time": "2022-07-30T08:16:48.415123",
     "exception": false,
     "start_time": "2022-07-30T08:16:48.372979",
     "status": "completed"
    },
    "tags": []
   },
   "outputs": [
    {
     "data": {
      "text/plain": [
       "person_age                    0.00\n",
       "person_income                 0.00\n",
       "person_home_ownership         0.00\n",
       "person_emp_length             2.75\n",
       "loan_intent                   0.00\n",
       "loan_grade                    0.00\n",
       "loan_amnt                     0.00\n",
       "loan_int_rate                 9.56\n",
       "loan_status                   0.00\n",
       "loan_percent_income           0.00\n",
       "cb_person_default_on_file     0.00\n",
       "cb_person_cred_hist_length    0.00\n",
       "dtype: float64"
      ]
     },
     "execution_count": 15,
     "metadata": {},
     "output_type": "execute_result"
    }
   ],
   "source": [
    "nan_per = credit_df.isnull().sum() / credit_df.shape[0]*100  # 결측치 확인 \n",
    "nan_per.round(2)"
   ]
  },
  {
   "cell_type": "markdown",
   "id": "27c1cf89",
   "metadata": {
    "papermill": {
     "duration": 0.013682,
     "end_time": "2022-07-30T08:16:48.442991",
     "exception": false,
     "start_time": "2022-07-30T08:16:48.429309",
     "status": "completed"
    },
    "tags": []
   },
   "source": [
    "person_emp_length 및 loan_int_rate 칼럼에 결측치 있음, 각각 2.75%, 9.56% 차지하고 있음\n",
    "\n",
    "결측치를 대체하기 위해 결측치 해당 칼럼의 최빈수와 평균값을 확인"
   ]
  },
  {
   "cell_type": "code",
   "execution_count": 16,
   "id": "f6220616",
   "metadata": {
    "execution": {
     "iopub.execute_input": "2022-07-30T08:16:48.473418Z",
     "iopub.status.busy": "2022-07-30T08:16:48.472702Z",
     "iopub.status.idle": "2022-07-30T08:16:48.483644Z",
     "shell.execute_reply": "2022-07-30T08:16:48.482762Z"
    },
    "papermill": {
     "duration": 0.028757,
     "end_time": "2022-07-30T08:16:48.486090",
     "exception": false,
     "start_time": "2022-07-30T08:16:48.457333",
     "status": "completed"
    },
    "tags": []
   },
   "outputs": [
    {
     "name": "stdout",
     "output_type": "stream",
     "text": [
      "person_emp_length 최빈수 = 0.0\n",
      "person_emp_length 평균값 = 4.789686296787225\n",
      "loan_int_rate 최빈수 = 7.51\n",
      "loan_int_rate 평균값 = 11.011694892245036\n"
     ]
    }
   ],
   "source": [
    "print('person_emp_length 최빈수 = {}'.format(credit_df['person_emp_length'].mode()[0]))\n",
    "print('person_emp_length 평균값 = {}'.format(credit_df['person_emp_length'].mean()))\n",
    "print('loan_int_rate 최빈수 = {}'.format(credit_df['loan_int_rate'].mode()[0]))\n",
    "print('loan_int_rate 평균값 = {}'.format(credit_df['loan_int_rate'].mean()))"
   ]
  },
  {
   "cell_type": "markdown",
   "id": "02ccf76c",
   "metadata": {
    "papermill": {
     "duration": 0.013817,
     "end_time": "2022-07-30T08:16:48.514924",
     "exception": false,
     "start_time": "2022-07-30T08:16:48.501107",
     "status": "completed"
    },
    "tags": []
   },
   "source": [
    "person_emp_length(근로기간)의 경우 결측치를 최빈수로, loan_int_rate(금리)의 경우 결측치를 평균값으로 대체할 예정입니다. "
   ]
  },
  {
   "cell_type": "markdown",
   "id": "4b6b1719",
   "metadata": {
    "papermill": {
     "duration": 0.013529,
     "end_time": "2022-07-30T08:16:48.542351",
     "exception": false,
     "start_time": "2022-07-30T08:16:48.528822",
     "status": "completed"
    },
    "tags": []
   },
   "source": [
    "# 데이터 전처리"
   ]
  },
  {
   "cell_type": "markdown",
   "id": "ce80c821",
   "metadata": {
    "papermill": {
     "duration": 0.013731,
     "end_time": "2022-07-30T08:16:48.569886",
     "exception": false,
     "start_time": "2022-07-30T08:16:48.556155",
     "status": "completed"
    },
    "tags": []
   },
   "source": [
    "### 결측치 처리"
   ]
  },
  {
   "cell_type": "code",
   "execution_count": 17,
   "id": "be7ab80f",
   "metadata": {
    "execution": {
     "iopub.execute_input": "2022-07-30T08:16:48.599620Z",
     "iopub.status.busy": "2022-07-30T08:16:48.599238Z",
     "iopub.status.idle": "2022-07-30T08:16:48.607240Z",
     "shell.execute_reply": "2022-07-30T08:16:48.606282Z"
    },
    "papermill": {
     "duration": 0.025855,
     "end_time": "2022-07-30T08:16:48.609622",
     "exception": false,
     "start_time": "2022-07-30T08:16:48.583767",
     "status": "completed"
    },
    "tags": []
   },
   "outputs": [],
   "source": [
    "credit_df['person_emp_length'].fillna(credit_df['person_emp_length'].mode()[0], inplace=True)\n",
    "credit_df['loan_int_rate'].fillna(credit_df['loan_int_rate'].mean(), inplace=True)"
   ]
  },
  {
   "cell_type": "code",
   "execution_count": 18,
   "id": "1fa41de8",
   "metadata": {
    "execution": {
     "iopub.execute_input": "2022-07-30T08:16:48.639675Z",
     "iopub.status.busy": "2022-07-30T08:16:48.639310Z",
     "iopub.status.idle": "2022-07-30T08:16:48.663358Z",
     "shell.execute_reply": "2022-07-30T08:16:48.662396Z"
    },
    "papermill": {
     "duration": 0.041594,
     "end_time": "2022-07-30T08:16:48.665468",
     "exception": false,
     "start_time": "2022-07-30T08:16:48.623874",
     "status": "completed"
    },
    "tags": []
   },
   "outputs": [
    {
     "data": {
      "text/plain": [
       "person_age                    0\n",
       "person_income                 0\n",
       "person_home_ownership         0\n",
       "person_emp_length             0\n",
       "loan_intent                   0\n",
       "loan_grade                    0\n",
       "loan_amnt                     0\n",
       "loan_int_rate                 0\n",
       "loan_status                   0\n",
       "loan_percent_income           0\n",
       "cb_person_default_on_file     0\n",
       "cb_person_cred_hist_length    0\n",
       "dtype: int64"
      ]
     },
     "execution_count": 18,
     "metadata": {},
     "output_type": "execute_result"
    }
   ],
   "source": [
    "credit_df.isnull().sum()"
   ]
  },
  {
   "cell_type": "markdown",
   "id": "d28cf19b",
   "metadata": {
    "papermill": {
     "duration": 0.013832,
     "end_time": "2022-07-30T08:16:48.693591",
     "exception": false,
     "start_time": "2022-07-30T08:16:48.679759",
     "status": "completed"
    },
    "tags": []
   },
   "source": [
    "### 이상치 처리"
   ]
  },
  {
   "cell_type": "code",
   "execution_count": 19,
   "id": "bc577849",
   "metadata": {
    "execution": {
     "iopub.execute_input": "2022-07-30T08:16:48.723739Z",
     "iopub.status.busy": "2022-07-30T08:16:48.723036Z",
     "iopub.status.idle": "2022-07-30T08:16:48.737964Z",
     "shell.execute_reply": "2022-07-30T08:16:48.737150Z"
    },
    "papermill": {
     "duration": 0.032595,
     "end_time": "2022-07-30T08:16:48.740298",
     "exception": false,
     "start_time": "2022-07-30T08:16:48.707703",
     "status": "completed"
    },
    "tags": []
   },
   "outputs": [],
   "source": [
    "credit_df = credit_df[credit_df['person_age']<=100]\n",
    "credit_df = credit_df[credit_df['person_income'] < credit_df['person_income'].max()]\n",
    "credit_df = credit_df[credit_df['person_emp_length'] < credit_df['person_emp_length'].max()]"
   ]
  },
  {
   "cell_type": "code",
   "execution_count": 20,
   "id": "83ec3e5b",
   "metadata": {
    "execution": {
     "iopub.execute_input": "2022-07-30T08:16:48.771739Z",
     "iopub.status.busy": "2022-07-30T08:16:48.771066Z",
     "iopub.status.idle": "2022-07-30T08:16:48.776493Z",
     "shell.execute_reply": "2022-07-30T08:16:48.775790Z"
    },
    "papermill": {
     "duration": 0.023659,
     "end_time": "2022-07-30T08:16:48.778491",
     "exception": false,
     "start_time": "2022-07-30T08:16:48.754832",
     "status": "completed"
    },
    "tags": []
   },
   "outputs": [
    {
     "data": {
      "text/plain": [
       "(32573, 12)"
      ]
     },
     "execution_count": 20,
     "metadata": {},
     "output_type": "execute_result"
    }
   ],
   "source": [
    "credit_df.shape"
   ]
  },
  {
   "cell_type": "code",
   "execution_count": 21,
   "id": "9ec14f5d",
   "metadata": {
    "execution": {
     "iopub.execute_input": "2022-07-30T08:16:48.810279Z",
     "iopub.status.busy": "2022-07-30T08:16:48.809577Z",
     "iopub.status.idle": "2022-07-30T08:16:48.828027Z",
     "shell.execute_reply": "2022-07-30T08:16:48.826991Z"
    },
    "papermill": {
     "duration": 0.037047,
     "end_time": "2022-07-30T08:16:48.830215",
     "exception": false,
     "start_time": "2022-07-30T08:16:48.793168",
     "status": "completed"
    },
    "tags": []
   },
   "outputs": [
    {
     "data": {
      "text/plain": [
       "loan_status                   1.000000\n",
       "loan_percent_income           0.379241\n",
       "loan_int_rate                 0.319310\n",
       "loan_amnt                     0.105238\n",
       "cb_person_cred_hist_length   -0.015436\n",
       "person_age                   -0.020651\n",
       "person_emp_length            -0.090431\n",
       "person_income                -0.171638\n",
       "Name: loan_status, dtype: float64"
      ]
     },
     "execution_count": 21,
     "metadata": {},
     "output_type": "execute_result"
    }
   ],
   "source": [
    "corr = credit_df.corr()['loan_status'].sort_values(ascending=False)\n",
    "corr"
   ]
  },
  {
   "cell_type": "markdown",
   "id": "b149df8b",
   "metadata": {
    "papermill": {
     "duration": 0.013916,
     "end_time": "2022-07-30T08:16:48.858494",
     "exception": false,
     "start_time": "2022-07-30T08:16:48.844578",
     "status": "completed"
    },
    "tags": []
   },
   "source": [
    "loan_percent_income, loan_int_rate: 종속변수 loan_status에 긍정적인 영향을 미치며,변수값이 클수록 credit risk 높아집니다.\n",
    "\n",
    "person_income: 기본이 되는 loan_status에 부정적인 영향을 미치며, 변수값이 클수록 credit risk 적어집니다."
   ]
  },
  {
   "cell_type": "markdown",
   "id": "ec0cc71b",
   "metadata": {
    "papermill": {
     "duration": 0.014052,
     "end_time": "2022-07-30T08:16:48.886774",
     "exception": false,
     "start_time": "2022-07-30T08:16:48.872722",
     "status": "completed"
    },
    "tags": []
   },
   "source": [
    "### 데이터 인코딩"
   ]
  },
  {
   "cell_type": "code",
   "execution_count": 22,
   "id": "8def090e",
   "metadata": {
    "execution": {
     "iopub.execute_input": "2022-07-30T08:16:48.917328Z",
     "iopub.status.busy": "2022-07-30T08:16:48.916628Z",
     "iopub.status.idle": "2022-07-30T08:16:48.948052Z",
     "shell.execute_reply": "2022-07-30T08:16:48.947193Z"
    },
    "papermill": {
     "duration": 0.049341,
     "end_time": "2022-07-30T08:16:48.950350",
     "exception": false,
     "start_time": "2022-07-30T08:16:48.901009",
     "status": "completed"
    },
    "tags": []
   },
   "outputs": [
    {
     "data": {
      "text/plain": [
       "(32573, 23)"
      ]
     },
     "execution_count": 22,
     "metadata": {},
     "output_type": "execute_result"
    }
   ],
   "source": [
    "credit_df_encoded = pd.get_dummies(credit_df, drop_first=True)  # one_hot encoding\n",
    "credit_df_encoded.shape"
   ]
  },
  {
   "cell_type": "code",
   "execution_count": 23,
   "id": "8a78b874",
   "metadata": {
    "execution": {
     "iopub.execute_input": "2022-07-30T08:16:48.982158Z",
     "iopub.status.busy": "2022-07-30T08:16:48.981395Z",
     "iopub.status.idle": "2022-07-30T08:16:48.997668Z",
     "shell.execute_reply": "2022-07-30T08:16:48.996589Z"
    },
    "papermill": {
     "duration": 0.035845,
     "end_time": "2022-07-30T08:16:49.001079",
     "exception": false,
     "start_time": "2022-07-30T08:16:48.965234",
     "status": "completed"
    },
    "tags": []
   },
   "outputs": [
    {
     "name": "stdout",
     "output_type": "stream",
     "text": [
      "<class 'pandas.core.frame.DataFrame'>\n",
      "Int64Index: 32573 entries, 1 to 32580\n",
      "Data columns (total 23 columns):\n",
      " #   Column                       Non-Null Count  Dtype  \n",
      "---  ------                       --------------  -----  \n",
      " 0   person_age                   32573 non-null  int64  \n",
      " 1   person_income                32573 non-null  int64  \n",
      " 2   person_emp_length            32573 non-null  float64\n",
      " 3   loan_amnt                    32573 non-null  int64  \n",
      " 4   loan_int_rate                32573 non-null  float64\n",
      " 5   loan_status                  32573 non-null  int64  \n",
      " 6   loan_percent_income          32573 non-null  float64\n",
      " 7   cb_person_cred_hist_length   32573 non-null  int64  \n",
      " 8   person_home_ownership_OTHER  32573 non-null  uint8  \n",
      " 9   person_home_ownership_OWN    32573 non-null  uint8  \n",
      " 10  person_home_ownership_RENT   32573 non-null  uint8  \n",
      " 11  loan_intent_EDUCATION        32573 non-null  uint8  \n",
      " 12  loan_intent_HOMEIMPROVEMENT  32573 non-null  uint8  \n",
      " 13  loan_intent_MEDICAL          32573 non-null  uint8  \n",
      " 14  loan_intent_PERSONAL         32573 non-null  uint8  \n",
      " 15  loan_intent_VENTURE          32573 non-null  uint8  \n",
      " 16  loan_grade_B                 32573 non-null  uint8  \n",
      " 17  loan_grade_C                 32573 non-null  uint8  \n",
      " 18  loan_grade_D                 32573 non-null  uint8  \n",
      " 19  loan_grade_E                 32573 non-null  uint8  \n",
      " 20  loan_grade_F                 32573 non-null  uint8  \n",
      " 21  loan_grade_G                 32573 non-null  uint8  \n",
      " 22  cb_person_default_on_file_Y  32573 non-null  uint8  \n",
      "dtypes: float64(3), int64(5), uint8(15)\n",
      "memory usage: 2.7 MB\n"
     ]
    }
   ],
   "source": [
    "credit_df_encoded.info()"
   ]
  },
  {
   "cell_type": "markdown",
   "id": "fa27a20d",
   "metadata": {
    "papermill": {
     "duration": 0.014613,
     "end_time": "2022-07-30T08:16:49.031376",
     "exception": false,
     "start_time": "2022-07-30T08:16:49.016763",
     "status": "completed"
    },
    "tags": []
   },
   "source": [
    "### train set / test set 준비"
   ]
  },
  {
   "cell_type": "code",
   "execution_count": 24,
   "id": "769328f0",
   "metadata": {
    "execution": {
     "iopub.execute_input": "2022-07-30T08:16:49.063799Z",
     "iopub.status.busy": "2022-07-30T08:16:49.063195Z",
     "iopub.status.idle": "2022-07-30T08:16:49.083704Z",
     "shell.execute_reply": "2022-07-30T08:16:49.082464Z"
    },
    "papermill": {
     "duration": 0.039561,
     "end_time": "2022-07-30T08:16:49.085956",
     "exception": false,
     "start_time": "2022-07-30T08:16:49.046395",
     "status": "completed"
    },
    "tags": []
   },
   "outputs": [
    {
     "name": "stdout",
     "output_type": "stream",
     "text": [
      "(22801, 22) (9772, 22) (22801,) (9772,)\n"
     ]
    }
   ],
   "source": [
    "X = credit_df_encoded.drop(['loan_status'], axis=1)\n",
    "y = credit_df_encoded['loan_status']\n",
    "X_train, X_test, y_train, y_test = train_test_split(X, y, random_state=42, test_size=0.3)\n",
    "\n",
    "print(X_train.shape, X_test.shape, y_train.shape, y_test.shape)"
   ]
  },
  {
   "cell_type": "markdown",
   "id": "0f659738",
   "metadata": {
    "papermill": {
     "duration": 0.014415,
     "end_time": "2022-07-30T08:16:49.115213",
     "exception": false,
     "start_time": "2022-07-30T08:16:49.100798",
     "status": "completed"
    },
    "tags": []
   },
   "source": [
    "### 모델 생성"
   ]
  },
  {
   "cell_type": "code",
   "execution_count": 25,
   "id": "85d68236",
   "metadata": {
    "execution": {
     "iopub.execute_input": "2022-07-30T08:16:49.146547Z",
     "iopub.status.busy": "2022-07-30T08:16:49.146151Z",
     "iopub.status.idle": "2022-07-30T08:16:49.152149Z",
     "shell.execute_reply": "2022-07-30T08:16:49.150928Z"
    },
    "papermill": {
     "duration": 0.02431,
     "end_time": "2022-07-30T08:16:49.154383",
     "exception": false,
     "start_time": "2022-07-30T08:16:49.130073",
     "status": "completed"
    },
    "tags": []
   },
   "outputs": [],
   "source": [
    "# 모델 생성하기 전에 모델 평가를 위한 함수 정의\n",
    "def model_assess(model, name='Default'):\n",
    "    model.fit(X_train, y_train)\n",
    "    pred = model.predict(X_test)\n",
    "    print(name, '\\n', classification_report(y_test, pred))"
   ]
  },
  {
   "cell_type": "code",
   "execution_count": 26,
   "id": "be35c89b",
   "metadata": {
    "execution": {
     "iopub.execute_input": "2022-07-30T08:16:49.187034Z",
     "iopub.status.busy": "2022-07-30T08:16:49.185950Z",
     "iopub.status.idle": "2022-07-30T08:16:57.587281Z",
     "shell.execute_reply": "2022-07-30T08:16:57.585841Z"
    },
    "papermill": {
     "duration": 8.420636,
     "end_time": "2022-07-30T08:16:57.589920",
     "exception": false,
     "start_time": "2022-07-30T08:16:49.169284",
     "status": "completed"
    },
    "tags": []
   },
   "outputs": [
    {
     "name": "stdout",
     "output_type": "stream",
     "text": [
      "KNN \n",
      "               precision    recall  f1-score   support\n",
      "\n",
      "           0       0.87      0.93      0.90      7606\n",
      "           1       0.66      0.50      0.57      2166\n",
      "\n",
      "    accuracy                           0.83      9772\n",
      "   macro avg       0.76      0.71      0.73      9772\n",
      "weighted avg       0.82      0.83      0.82      9772\n",
      "\n",
      "Logistic Regression \n",
      "               precision    recall  f1-score   support\n",
      "\n",
      "           0       0.80      0.98      0.88      7606\n",
      "           1       0.72      0.16      0.26      2166\n",
      "\n",
      "    accuracy                           0.80      9772\n",
      "   macro avg       0.76      0.57      0.57      9772\n",
      "weighted avg       0.79      0.80      0.75      9772\n",
      "\n",
      "DecisionTree Classifier \n",
      "               precision    recall  f1-score   support\n",
      "\n",
      "           0       0.93      0.93      0.93      7606\n",
      "           1       0.76      0.77      0.77      2166\n",
      "\n",
      "    accuracy                           0.90      9772\n",
      "   macro avg       0.85      0.85      0.85      9772\n",
      "weighted avg       0.90      0.90      0.90      9772\n",
      "\n",
      "XGBClassifier \n",
      "               precision    recall  f1-score   support\n",
      "\n",
      "           0       0.94      0.99      0.96      7606\n",
      "           1       0.95      0.76      0.85      2166\n",
      "\n",
      "    accuracy                           0.94      9772\n",
      "   macro avg       0.94      0.87      0.90      9772\n",
      "weighted avg       0.94      0.94      0.94      9772\n",
      "\n"
     ]
    }
   ],
   "source": [
    "# KNN\n",
    "knn = KNeighborsClassifier()\n",
    "model_assess(knn, name='KNN')\n",
    "\n",
    "# Logistic Regression\n",
    "lg = LogisticRegression(random_state=42)\n",
    "model_assess(lg, name = 'Logistic Regression')\n",
    "\n",
    "# DecisionTree Classifier\n",
    "dr = DecisionTreeClassifier(random_state=42)\n",
    "model_assess(dr, name = 'DecisionTree Classifier')\n",
    "\n",
    "# XGBoost\n",
    "xgb = XGBClassifier(objective=\"binary:logistic\", random_state=42)\n",
    "model_assess(xgb, name = 'XGBClassifier')"
   ]
  },
  {
   "cell_type": "code",
   "execution_count": 27,
   "id": "8312a782",
   "metadata": {
    "execution": {
     "iopub.execute_input": "2022-07-30T08:16:57.621475Z",
     "iopub.status.busy": "2022-07-30T08:16:57.621073Z",
     "iopub.status.idle": "2022-07-30T08:17:02.770460Z",
     "shell.execute_reply": "2022-07-30T08:17:02.769243Z"
    },
    "papermill": {
     "duration": 5.168123,
     "end_time": "2022-07-30T08:17:02.772853",
     "exception": false,
     "start_time": "2022-07-30T08:16:57.604730",
     "status": "completed"
    },
    "tags": []
   },
   "outputs": [
    {
     "data": {
      "image/png": "[encoded data removed]",
      "text/plain": [
       "<Figure size 576x360 with 1 Axes>"
      ]
     },
     "metadata": {
      "needs_background": "light"
     },
     "output_type": "display_data"
    }
   ],
   "source": [
    "# AUC\n",
    "fig = plt.figure(figsize=(8,5))\n",
    "plt.plot([0,1], [0,1], 'r--')\n",
    "\n",
    "# KNN\n",
    "knn_preds_proba = knn.predict_proba(X_test)\n",
    "knn_default_proba = knn_preds_proba[:, 1]\n",
    "fpr, tpr, threshold = roc_curve(y_test, knn_default_proba)\n",
    "knn_score = roc_auc_score(y_test, knn_default_proba)\n",
    "plt.plot(fpr, tpr, label=f'KNN, AUC = {str(round(knn_score, 3))}')\n",
    "\n",
    "# Logistic Regression\n",
    "lg_preds_proba = lg.predict_proba(X_test)\n",
    "lg_default_proba = lg_preds_proba[:, 1]\n",
    "fpr, tpr, threshold = roc_curve(y_test, lg_default_proba)\n",
    "lg_score = roc_auc_score(y_test, lg_default_proba)\n",
    "plt.plot(fpr, tpr, label=f'Logistic Regression, AUC = {str(round(lg_score,3))}')\n",
    "\n",
    "# DecisionTree Classifier\n",
    "dr_preds_proba = dr.predict_proba(X_test)\n",
    "dr_default_proba = dr_preds_proba[:, 1]\n",
    "fpr, tpr, threshold = roc_curve(y_test, dr_default_proba)\n",
    "dr_score = roc_auc_score(y_test, dr_default_proba)\n",
    "plt.plot(fpr, tpr, label=f'DecisionTree Classifier, AUC = {str(round(dr_score,3))}')\n",
    "\n",
    "# XGBoost\n",
    "xgb_preds_proba = xgb.predict_proba(X_test)\n",
    "xgb_default_proba = xgb_preds_proba[:, 1]\n",
    "fpr, tpr, threshold = roc_curve(y_test, xgb_default_proba)\n",
    "xgb_score = roc_auc_score(y_test, xgb_default_proba)\n",
    "plt.plot(fpr, tpr, label = f'XGBoost, AUC = {str(round(xgb_score, 3))}')\n",
    "plt.ylabel(\"True Positive Rate\", fontsize=12)\n",
    "plt.xlabel(\"False Positive Rate\", fontsize=12)\n",
    "plt.title(\"ROC CURVE\")\n",
    "plt.legend()\n",
    "plt.show()"
   ]
  },
  {
   "cell_type": "code",
   "execution_count": 28,
   "id": "03b1fecd",
   "metadata": {
    "execution": {
     "iopub.execute_input": "2022-07-30T08:17:02.807068Z",
     "iopub.status.busy": "2022-07-30T08:17:02.806670Z",
     "iopub.status.idle": "2022-07-30T08:17:02.815295Z",
     "shell.execute_reply": "2022-07-30T08:17:02.814531Z"
    },
    "papermill": {
     "duration": 0.027866,
     "end_time": "2022-07-30T08:17:02.817375",
     "exception": false,
     "start_time": "2022-07-30T08:17:02.789509",
     "status": "completed"
    },
    "tags": []
   },
   "outputs": [],
   "source": [
    "feature_importance = pd.DataFrame({'feature': X_test.columns, 'importance': xgb.feature_importances_})\n",
    "feature_importance_sorted = feature_importance.sort_values(['importance'], ascending=False)\n",
    "\n",
    "\n",
    "\n"
   ]
  },
  {
   "cell_type": "code",
   "execution_count": 29,
   "id": "1f6fde65",
   "metadata": {
    "execution": {
     "iopub.execute_input": "2022-07-30T08:17:02.851043Z",
     "iopub.status.busy": "2022-07-30T08:17:02.850407Z",
     "iopub.status.idle": "2022-07-30T08:17:03.105963Z",
     "shell.execute_reply": "2022-07-30T08:17:03.104780Z"
    },
    "papermill": {
     "duration": 0.275202,
     "end_time": "2022-07-30T08:17:03.108437",
     "exception": false,
     "start_time": "2022-07-30T08:17:02.833235",
     "status": "completed"
    },
    "tags": []
   },
   "outputs": [
    {
     "data": {
      "image/png": "[encoded data removed]",
      "text/plain": [
       "<Figure size 432x288 with 1 Axes>"
      ]
     },
     "metadata": {},
     "output_type": "display_data"
    }
   ],
   "source": [
    "sns.set(context='paper', style='ticks', font='sans-serif',\n",
    "       font_scale=1.2, color_codes=True, rc=None)\n",
    "plt.plot(figsize=(8,5))\n",
    "sns.barplot(data=feature_importance_sorted[:10], y='feature', \n",
    "           x = 'importance', palette='Blues_d')\n",
    "plt.title('feature importance',fontsize = 14)\n",
    "plt.xlabel('importance', fontsize=12)\n",
    "plt.ylabel('feature', fontsize=12)\n",
    "plt.show()\n"
   ]
  },
  {
   "cell_type": "markdown",
   "id": "2a0b621f",
   "metadata": {
    "papermill": {
     "duration": 0.016261,
     "end_time": "2022-07-30T08:17:03.141044",
     "exception": false,
     "start_time": "2022-07-30T08:17:03.124783",
     "status": "completed"
    },
    "tags": []
   },
   "source": [
    "XGBoost 모델은 KNN, LogisticRegression 및 DecisionTree 분류기에 비해 AUROC점수 0.954로 최고의 성능을 보입니다."
   ]
  }
 ],
 "metadata": {
  "kernelspec": {
   "display_name": "Python 3",
   "language": "python",
   "name": "python3"
  },
  "language_info": {
   "codemirror_mode": {
    "name": "ipython",
    "version": 3
   },
   "file_extension": ".py",
   "mimetype": "text/x-python",
   "name": "python",
   "nbconvert_exporter": "python",
   "pygments_lexer": "ipython3",
   "version": "3.7.12"
  },
  "papermill": {
   "default_parameters": {},
   "duration": 37.282272,
   "end_time": "2022-07-30T08:17:04.079256",
   "environment_variables": {},
   "exception": null,
   "input_path": "__notebook__.ipynb",
   "output_path": "__notebook__.ipynb",
   "parameters": {},
   "start_time": "2022-07-30T08:16:26.796984",
   "version": "2.3.4"
  }
 },
 "nbformat": 4,
 "nbformat_minor": 5
}
